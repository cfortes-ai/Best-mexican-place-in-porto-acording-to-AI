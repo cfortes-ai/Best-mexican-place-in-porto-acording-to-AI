{
    "cells": [
        {
            "cell_type": "code",
            "execution_count": 1,
            "metadata": {},
            "outputs": [],
            "source": "#!pip install bs4\n#!conda install -c conda-forge geopy --yes\n#!conda install -c conda-forge folium=0.5.0 --yes \n#!pip install geocoder"
        },
        {
            "cell_type": "markdown",
            "metadata": {},
            "source": "PART 1"
        },
        {
            "cell_type": "code",
            "execution_count": 2,
            "metadata": {},
            "outputs": [],
            "source": "import requests\nimport urllib.request\nfrom bs4 import BeautifulSoup\nimport numpy as np\nimport pandas as pd\nfrom urllib.request import urlopen\nurl = 'https://en.m.wikipedia.org/wiki/List_of_postal_codes_of_Canada:_M'\nhtml = urlopen(url) \nsoup = BeautifulSoup(html, 'html.parser')"
        },
        {
            "cell_type": "markdown",
            "metadata": {},
            "source": "After retreiving the URL and creating a Beautiful soup object** \nFirstly create a list**  \nLater after finding the table and table data  create a dictionary called cell having 3 keys PostalCode, Borough and Neighborhood.**\nAs postal code contains upto 3 characters extract that using tablerow.p.text**\nNext use split ,strip and replace functions for getting Borough and Neighborhood information.**.\nAppend to the list**  \nCreate a dataframe with list**\n"
        },
        {
            "cell_type": "code",
            "execution_count": 3,
            "metadata": {
                "scrolled": true
            },
            "outputs": [
                {
                    "data": {
                        "text/html": "<div>\n<style scoped>\n    .dataframe tbody tr th:only-of-type {\n        vertical-align: middle;\n    }\n\n    .dataframe tbody tr th {\n        vertical-align: top;\n    }\n\n    .dataframe thead th {\n        text-align: right;\n    }\n</style>\n<table border=\"1\" class=\"dataframe\">\n  <thead>\n    <tr style=\"text-align: right;\">\n      <th></th>\n      <th>PostalCode</th>\n      <th>Borough</th>\n      <th>Neighborhood</th>\n    </tr>\n  </thead>\n  <tbody>\n    <tr>\n      <th>0</th>\n      <td>M3A</td>\n      <td>North York</td>\n      <td>Parkwoods</td>\n    </tr>\n    <tr>\n      <th>1</th>\n      <td>M4A</td>\n      <td>North York</td>\n      <td>Victoria Village</td>\n    </tr>\n    <tr>\n      <th>2</th>\n      <td>M5A</td>\n      <td>Downtown Toronto</td>\n      <td>Regent Park, Harbourfront</td>\n    </tr>\n    <tr>\n      <th>3</th>\n      <td>M6A</td>\n      <td>North York</td>\n      <td>Lawrence Manor, Lawrence Heights</td>\n    </tr>\n    <tr>\n      <th>4</th>\n      <td>M7A</td>\n      <td>Queen's Park</td>\n      <td>Ontario Provincial Government</td>\n    </tr>\n    <tr>\n      <th>5</th>\n      <td>M9A</td>\n      <td>Etobicoke</td>\n      <td>Islington Avenue</td>\n    </tr>\n    <tr>\n      <th>6</th>\n      <td>M1B</td>\n      <td>Scarborough</td>\n      <td>Malvern, Rouge</td>\n    </tr>\n    <tr>\n      <th>7</th>\n      <td>M3B</td>\n      <td>North York</td>\n      <td>Don Mills North</td>\n    </tr>\n    <tr>\n      <th>8</th>\n      <td>M4B</td>\n      <td>East York</td>\n      <td>Parkview Hill, Woodbine Gardens</td>\n    </tr>\n    <tr>\n      <th>9</th>\n      <td>M5B</td>\n      <td>Downtown Toronto</td>\n      <td>Garden District, Ryerson</td>\n    </tr>\n    <tr>\n      <th>10</th>\n      <td>M6B</td>\n      <td>North York</td>\n      <td>Glencairn</td>\n    </tr>\n    <tr>\n      <th>11</th>\n      <td>M9B</td>\n      <td>Etobicoke</td>\n      <td>West Deane Park, Princess Gardens, Martin Grov...</td>\n    </tr>\n  </tbody>\n</table>\n</div>",
                        "text/plain": "   PostalCode           Borough  \\\n0         M3A        North York   \n1         M4A        North York   \n2         M5A  Downtown Toronto   \n3         M6A        North York   \n4         M7A      Queen's Park   \n5         M9A         Etobicoke   \n6         M1B       Scarborough   \n7         M3B        North York   \n8         M4B         East York   \n9         M5B  Downtown Toronto   \n10        M6B        North York   \n11        M9B         Etobicoke   \n\n                                         Neighborhood  \n0                                           Parkwoods  \n1                                    Victoria Village  \n2                           Regent Park, Harbourfront  \n3                    Lawrence Manor, Lawrence Heights  \n4                       Ontario Provincial Government  \n5                                    Islington Avenue  \n6                                      Malvern, Rouge  \n7                                     Don Mills North  \n8                     Parkview Hill, Woodbine Gardens  \n9                            Garden District, Ryerson  \n10                                          Glencairn  \n11  West Deane Park, Princess Gardens, Martin Grov...  "
                    },
                    "execution_count": 3,
                    "metadata": {},
                    "output_type": "execute_result"
                }
            ],
            "source": "table_contents=[]\ntable=soup.find('table')\nfor row in table.findAll('td'):\n    cell = {}\n    if row.span.text=='Not assigned':\n        pass\n    else:\n        cell['PostalCode'] = row.p.text[:3]\n        cell['Borough'] = (row.span.text).split('(')[0]\n        cell['Neighborhood'] = (((((row.span.text).split('(')[1]).strip(')')).replace(' /',',')).replace(')',' ')).strip(' ')\n        table_contents.append(cell)\n\n# print(table_contents)\ndf=pd.DataFrame(table_contents)\ndf['Borough']=df['Borough'].replace({'Downtown TorontoStn A PO Boxes25 The Esplanade':'Downtown Toronto Stn A',\n                                             'East TorontoBusiness reply mail Processing Centre969 Eastern':'East Toronto Business',\n                                             'EtobicokeNorthwest':'Etobicoke Northwest','East YorkEast Toronto':'East York/East Toronto',\n                                             'MississaugaCanada Post Gateway Processing Centre':'Mississauga'})\ndf.head(12)"
        },
        {
            "cell_type": "code",
            "execution_count": 4,
            "metadata": {},
            "outputs": [
                {
                    "data": {
                        "text/plain": "(103, 3)"
                    },
                    "execution_count": 4,
                    "metadata": {},
                    "output_type": "execute_result"
                }
            ],
            "source": "df.shape"
        },
        {
            "cell_type": "markdown",
            "metadata": {},
            "source": "PART 2"
        },
        {
            "cell_type": "code",
            "execution_count": 5,
            "metadata": {
                "scrolled": true
            },
            "outputs": [
                {
                    "name": "stdout",
                    "output_type": "stream",
                    "text": "M3A [43.75245000000007, -79.32990999999998]\nM4A [43.73057000000006, -79.31305999999995]\nM5A [43.65512000000007, -79.36263999999994]\nM6A [43.72327000000007, -79.45041999999995]\nM7A [43.66253000000006, -79.39187999999996]\nM9A [43.662630000000036, -79.52830999999998]\nM1B [43.811390000000074, -79.19661999999994]\nM3B [43.74923000000007, -79.36185999999998]\nM4B [43.70718000000005, -79.31191999999999]\nM5B [43.65739000000008, -79.37803999999994]\nM6B [43.70687000000004, -79.44811999999996]\nM9B [43.65034000000003, -79.55361999999997]\nM1C [43.78574000000003, -79.15874999999994]\nM3C [43.72168000000005, -79.34351999999996]\nM4C [43.68970000000007, -79.30681999999996]\nM5C [43.65215000000006, -79.37586999999996]\nM6C [43.69211000000007, -79.43035999999995]\nM9C [43.64857000000006, -79.57824999999997]\nM1E [43.765750000000025, -79.17469999999997]\nM4E [43.67709000000008, -79.29546999999997]\nM5E [43.64536000000004, -79.37305999999995]\nM6E [43.68784000000005, -79.45045999999996]\nM1G [43.76812000000007, -79.21760999999998]\nM4G [43.709020000000066, -79.36348999999996]\nM5G [43.65609000000006, -79.38492999999994]\nM6G [43.668690000000026, -79.42070999999999]\nM1H [43.76944000000003, -79.23891999999995]\nM2H [43.80225000000007, -79.35557999999997]\nM3H [43.75788000000006, -79.44846999999999]\nM4H [43.70142000000004, -79.34904999999998]\nM5H [43.64970000000005, -79.38257999999996]\nM6H [43.665050000000065, -79.43890999999996]\nM1J [43.74446000000006, -79.23116999999996]\nM2J [43.780970000000025, -79.34780999999998]\nM3J [43.76476000000008, -79.48797999999994]\nM4J [43.68811000000005, -79.33417999999995]\nM5J [43.64285000000007, -79.38075999999995]\nM6J [43.64848000000006, -79.41773999999998]\nM1K [43.725820000000056, -79.26460999999995]\nM2K [43.781120000000044, -79.38059999999996]\nM3K [43.73384000000004, -79.46827999999994]\nM4K [43.68375000000003, -79.35511999999994]\nM5K [43.64710000000008, -79.38152999999994]\nM6K [43.639410000000055, -79.42675999999994]\nM1L [43.71289000000007, -79.28505999999999]\nM2L [43.756980000000055, -79.38059999999996]\nM3L [43.720710000000054, -79.51700999999997]\nM4L [43.667970000000025, -79.31466999999998]\nM5L [43.64840000000004, -79.37913999999995]\nM6L [43.71381000000008, -79.48873999999995]\nM9L [43.75948000000005, -79.55706999999995]\nM1M [43.72360000000003, -79.23495999999994]\nM2M [43.79182000000003, -79.41371999999996]\nM3M [43.73224000000005, -79.50177999999994]\nM4M [43.66213000000005, -79.33496999999994]\nM5M [43.73545000000007, -79.41915999999998]\nM6M [43.695170000000076, -79.48396999999994]\nM9M [43.733670000000075, -79.53768999999994]\nM1N [43.695100000000025, -79.26465999999994]\nM2N [43.76774000000006, -79.40727999999996]\nM3N [43.75478000000004, -79.51958999999994]\nM4N [43.72843000000006, -79.38712999999996]\nM5N [43.71208000000007, -79.41847999999999]\nM6N [43.67646000000008, -79.48271999999997]\nM9N [43.705070000000035, -79.51803999999998]\nM1P [43.75998000000004, -79.26939999999996]\nM2P [43.747780000000034, -79.40032999999994]\nM4P [43.71276000000006, -79.38850999999994]\nM5P [43.69479000000007, -79.41439999999994]\nM6P [43.659730000000025, -79.46280999999993]\nM9P [43.696300000000065, -79.52925999999997]\nM1R [43.75075000000004, -79.30053999999996]\nM2R [43.77989000000008, -79.44677999999999]\nM4R [43.71458000000007, -79.40667999999994]\nM5R [43.674840000000074, -79.40451999999993]\nM6R [43.64777000000004, -79.44988999999998]\nM7R [43.648690000000045, -79.38543999999996]\nM9R [43.68681000000004, -79.55727999999993]\nM1S [43.794520000000034, -79.26707999999996]\nM4S [43.703400000000045, -79.38658999999996]\nM5S [43.663110000000074, -79.40179999999998]\nM6S [43.649820000000034, -79.47547999999995]\nM1T [43.784910000000025, -79.29721999999998]\nM4T [43.690480000000036, -79.38317999999998]\nM5T [43.65351000000004, -79.39721999999995]\nM1V [43.817810000000065, -79.28043999999994]\nM4V [43.68568000000005, -79.40236999999996]\nM5V [43.640820000000076, -79.39817999999997]\nM8V [43.60987000000006, -79.49808999999993]\nM9V [43.744530000000054, -79.58623999999998]\nM1W [43.80079000000006, -79.32161999999994]\nM4W [43.68190000000004, -79.37828999999994]\nM5W [43.648690000000045, -79.38543999999996]\nM8W [43.601240000000075, -79.53878999999995]\nM9W [43.71174000000008, -79.57940999999994]\nM1X [43.83412000000004, -79.21667999999994]\nM4X [43.667880000000025, -79.36648999999994]\nM5X [43.64828000000006, -79.38145999999995]\nM8X [43.65319000000005, -79.51112999999998]\nM4Y [43.66659000000004, -79.38132999999993]\nM7Y [43.648690000000045, -79.38543999999996]\nM8Y [43.632780000000025, -79.48944999999998]\nM8Z [43.62513000000007, -79.52680999999995]\n"
                }
            ],
            "source": "import geocoder # import geocoder\n\nlatitude=[]\nlongitude=[]\nfor code in df['PostalCode']:\n    g = geocoder.arcgis('{}, Toronto, Ontario'.format(code))\n    print(code, g.latlng)\n    while (g.latlng is None):\n        g = geocoder.arcgis('{}, Toronto, Ontario'.format(code))\n        print(code, g.latlng)\n    latlng = g.latlng\n    latitude.append(latlng[0])\n    longitude.append(latlng[1])\n"
        },
        {
            "cell_type": "code",
            "execution_count": 11,
            "metadata": {},
            "outputs": [
                {
                    "name": "stdout",
                    "output_type": "stream",
                    "text": "M3A [43.75245000000007, -79.32990999999998]\nM4A [43.73057000000006, -79.31305999999995]\nM5A [43.65512000000007, -79.36263999999994]\nM6A [43.72327000000007, -79.45041999999995]\nM7A [43.66253000000006, -79.39187999999996]\nM9A [43.662630000000036, -79.52830999999998]\nM1B [43.811390000000074, -79.19661999999994]\nM3B [43.74923000000007, -79.36185999999998]\nM4B [43.70718000000005, -79.31191999999999]\nM5B [43.65739000000008, -79.37803999999994]\nM6B [43.70687000000004, -79.44811999999996]\nM9B [43.65034000000003, -79.55361999999997]\nM1C [43.78574000000003, -79.15874999999994]\nM3C [43.72168000000005, -79.34351999999996]\nM4C [43.68970000000007, -79.30681999999996]\nM5C [43.65215000000006, -79.37586999999996]\nM6C [43.69211000000007, -79.43035999999995]\nM9C [43.64857000000006, -79.57824999999997]\nM1E [43.765750000000025, -79.17469999999997]\nM4E [43.67709000000008, -79.29546999999997]\nM5E [43.64536000000004, -79.37305999999995]\nM6E [43.68784000000005, -79.45045999999996]\nM1G [43.76812000000007, -79.21760999999998]\nM4G [43.709020000000066, -79.36348999999996]\nM5G [43.65609000000006, -79.38492999999994]\nM6G [43.668690000000026, -79.42070999999999]\nM1H [43.76944000000003, -79.23891999999995]\nM2H [43.80225000000007, -79.35557999999997]\nM3H [43.75788000000006, -79.44846999999999]\nM4H [43.70142000000004, -79.34904999999998]\nM5H [43.64970000000005, -79.38257999999996]\nM6H [43.665050000000065, -79.43890999999996]\nM1J [43.74446000000006, -79.23116999999996]\nM2J [43.780970000000025, -79.34780999999998]\nM3J [43.76476000000008, -79.48797999999994]\nM4J [43.68811000000005, -79.33417999999995]\nM5J [43.64285000000007, -79.38075999999995]\nM6J [43.64848000000006, -79.41773999999998]\nM1K [43.725820000000056, -79.26460999999995]\nM2K [43.781120000000044, -79.38059999999996]\nM3K [43.73384000000004, -79.46827999999994]\nM4K [43.68375000000003, -79.35511999999994]\nM5K [43.64710000000008, -79.38152999999994]\nM6K [43.639410000000055, -79.42675999999994]\nM1L [43.71289000000007, -79.28505999999999]\nM2L [43.756980000000055, -79.38059999999996]\nM3L [43.720710000000054, -79.51700999999997]\nM4L [43.667970000000025, -79.31466999999998]\nM5L [43.64840000000004, -79.37913999999995]\nM6L [43.71381000000008, -79.48873999999995]\nM9L [43.75948000000005, -79.55706999999995]\nM1M [43.72360000000003, -79.23495999999994]\nM2M [43.79182000000003, -79.41371999999996]\nM3M [43.73224000000005, -79.50177999999994]\nM4M [43.66213000000005, -79.33496999999994]\nM5M [43.73545000000007, -79.41915999999998]\nM6M [43.695170000000076, -79.48396999999994]\nM9M [43.733670000000075, -79.53768999999994]\nM1N [43.695100000000025, -79.26465999999994]\nM2N [43.76774000000006, -79.40727999999996]\nM3N [43.75478000000004, -79.51958999999994]\nM4N [43.72843000000006, -79.38712999999996]\nM5N [43.71208000000007, -79.41847999999999]\nM6N [43.67646000000008, -79.48271999999997]\nM9N [43.705070000000035, -79.51803999999998]\nM1P [43.75998000000004, -79.26939999999996]\nM2P [43.747780000000034, -79.40032999999994]\nM4P [43.71276000000006, -79.38850999999994]\nM5P [43.69479000000007, -79.41439999999994]\nM6P [43.659730000000025, -79.46280999999993]\nM9P [43.696300000000065, -79.52925999999997]\nM1R [43.75075000000004, -79.30053999999996]\nM2R [43.77989000000008, -79.44677999999999]\nM4R [43.71458000000007, -79.40667999999994]\nM5R [43.674840000000074, -79.40451999999993]\nM6R [43.64777000000004, -79.44988999999998]\nM7R [43.648690000000045, -79.38543999999996]\nM9R [43.68681000000004, -79.55727999999993]\nM1S [43.794520000000034, -79.26707999999996]\nM4S [43.703400000000045, -79.38658999999996]\nM5S [43.663110000000074, -79.40179999999998]\nM6S [43.649820000000034, -79.47547999999995]\nM1T [43.784910000000025, -79.29721999999998]\nM4T [43.690480000000036, -79.38317999999998]\nM5T [43.65351000000004, -79.39721999999995]\nM1V [43.817810000000065, -79.28043999999994]\nM4V [43.68568000000005, -79.40236999999996]\nM5V [43.640820000000076, -79.39817999999997]\nM8V [43.60987000000006, -79.49808999999993]\nM9V [43.744530000000054, -79.58623999999998]\nM1W [43.80079000000006, -79.32161999999994]\nM4W [43.68190000000004, -79.37828999999994]\nM5W [43.648690000000045, -79.38543999999996]\nM8W [43.601240000000075, -79.53878999999995]\nM9W [43.71174000000008, -79.57940999999994]\nM1X [43.83412000000004, -79.21667999999994]\nM4X [43.667880000000025, -79.36648999999994]\nM5X [43.64828000000006, -79.38145999999995]\nM8X [43.65319000000005, -79.51112999999998]\nM4Y [43.66659000000004, -79.38132999999993]\nM7Y [43.648690000000045, -79.38543999999996]\nM8Y [43.632780000000025, -79.48944999999998]\nM8Z [43.62513000000007, -79.52680999999995]\n"
                }
            ],
            "source": "import geocoder # import geocoder\n\ncoordinates = list()\nfor code in df['PostalCode']:\n    g = geocoder.arcgis('{}, Toronto, Ontario'.format(code))\n    print(code, g.latlng)\n    while (g.latlng is None):\n        g = geocoder.arcgis('{}, Toronto, Ontario'.format(code))\n        print(code, g.latlng)\n    latlng = g.latlng\n    new_coordinates = {\"latitude\": latlng[0], \"longitude\": latlng[1]}\n    coordinates.extend([new_coordinates])"
        },
        {
            "cell_type": "code",
            "execution_count": 12,
            "metadata": {},
            "outputs": [
                {
                    "data": {
                        "text/html": "<div>\n<style scoped>\n    .dataframe tbody tr th:only-of-type {\n        vertical-align: middle;\n    }\n\n    .dataframe tbody tr th {\n        vertical-align: top;\n    }\n\n    .dataframe thead th {\n        text-align: right;\n    }\n</style>\n<table border=\"1\" class=\"dataframe\">\n  <thead>\n    <tr style=\"text-align: right;\">\n      <th></th>\n      <th>latitude</th>\n      <th>longitude</th>\n    </tr>\n  </thead>\n  <tbody>\n    <tr>\n      <th>0</th>\n      <td>43.75245</td>\n      <td>-79.32991</td>\n    </tr>\n    <tr>\n      <th>1</th>\n      <td>43.73057</td>\n      <td>-79.31306</td>\n    </tr>\n    <tr>\n      <th>2</th>\n      <td>43.65512</td>\n      <td>-79.36264</td>\n    </tr>\n    <tr>\n      <th>3</th>\n      <td>43.72327</td>\n      <td>-79.45042</td>\n    </tr>\n    <tr>\n      <th>4</th>\n      <td>43.66253</td>\n      <td>-79.39188</td>\n    </tr>\n    <tr>\n      <th>...</th>\n      <td>...</td>\n      <td>...</td>\n    </tr>\n    <tr>\n      <th>98</th>\n      <td>43.65319</td>\n      <td>-79.51113</td>\n    </tr>\n    <tr>\n      <th>99</th>\n      <td>43.66659</td>\n      <td>-79.38133</td>\n    </tr>\n    <tr>\n      <th>100</th>\n      <td>43.64869</td>\n      <td>-79.38544</td>\n    </tr>\n    <tr>\n      <th>101</th>\n      <td>43.63278</td>\n      <td>-79.48945</td>\n    </tr>\n    <tr>\n      <th>102</th>\n      <td>43.62513</td>\n      <td>-79.52681</td>\n    </tr>\n  </tbody>\n</table>\n<p>103 rows \u00d7 2 columns</p>\n</div>",
                        "text/plain": "     latitude  longitude\n0    43.75245  -79.32991\n1    43.73057  -79.31306\n2    43.65512  -79.36264\n3    43.72327  -79.45042\n4    43.66253  -79.39188\n..        ...        ...\n98   43.65319  -79.51113\n99   43.66659  -79.38133\n100  43.64869  -79.38544\n101  43.63278  -79.48945\n102  43.62513  -79.52681\n\n[103 rows x 2 columns]"
                    },
                    "execution_count": 12,
                    "metadata": {},
                    "output_type": "execute_result"
                }
            ],
            "source": "df1 = pd.DataFrame(coordinates)\ndf1"
        },
        {
            "cell_type": "code",
            "execution_count": 17,
            "metadata": {},
            "outputs": [],
            "source": "newdataframe = pd.concat([df,df1], axis=1)"
        },
        {
            "cell_type": "code",
            "execution_count": 18,
            "metadata": {
                "scrolled": true
            },
            "outputs": [
                {
                    "data": {
                        "text/html": "<div>\n<style scoped>\n    .dataframe tbody tr th:only-of-type {\n        vertical-align: middle;\n    }\n\n    .dataframe tbody tr th {\n        vertical-align: top;\n    }\n\n    .dataframe thead th {\n        text-align: right;\n    }\n</style>\n<table border=\"1\" class=\"dataframe\">\n  <thead>\n    <tr style=\"text-align: right;\">\n      <th></th>\n      <th>PostalCode</th>\n      <th>Borough</th>\n      <th>Neighborhood</th>\n      <th>latitude</th>\n      <th>longitude</th>\n    </tr>\n  </thead>\n  <tbody>\n    <tr>\n      <th>0</th>\n      <td>M3A</td>\n      <td>North York</td>\n      <td>Parkwoods</td>\n      <td>43.75245</td>\n      <td>-79.32991</td>\n    </tr>\n    <tr>\n      <th>1</th>\n      <td>M4A</td>\n      <td>North York</td>\n      <td>Victoria Village</td>\n      <td>43.73057</td>\n      <td>-79.31306</td>\n    </tr>\n    <tr>\n      <th>2</th>\n      <td>M5A</td>\n      <td>Downtown Toronto</td>\n      <td>Regent Park, Harbourfront</td>\n      <td>43.65512</td>\n      <td>-79.36264</td>\n    </tr>\n    <tr>\n      <th>3</th>\n      <td>M6A</td>\n      <td>North York</td>\n      <td>Lawrence Manor, Lawrence Heights</td>\n      <td>43.72327</td>\n      <td>-79.45042</td>\n    </tr>\n    <tr>\n      <th>4</th>\n      <td>M7A</td>\n      <td>Queen's Park</td>\n      <td>Ontario Provincial Government</td>\n      <td>43.66253</td>\n      <td>-79.39188</td>\n    </tr>\n    <tr>\n      <th>...</th>\n      <td>...</td>\n      <td>...</td>\n      <td>...</td>\n      <td>...</td>\n      <td>...</td>\n    </tr>\n    <tr>\n      <th>98</th>\n      <td>M8X</td>\n      <td>Etobicoke</td>\n      <td>The Kingsway, Montgomery Road, Old Mill North</td>\n      <td>43.65319</td>\n      <td>-79.51113</td>\n    </tr>\n    <tr>\n      <th>99</th>\n      <td>M4Y</td>\n      <td>Downtown Toronto</td>\n      <td>Church and Wellesley</td>\n      <td>43.66659</td>\n      <td>-79.38133</td>\n    </tr>\n    <tr>\n      <th>100</th>\n      <td>M7Y</td>\n      <td>East Toronto Business</td>\n      <td>Enclave of M4L</td>\n      <td>43.64869</td>\n      <td>-79.38544</td>\n    </tr>\n    <tr>\n      <th>101</th>\n      <td>M8Y</td>\n      <td>Etobicoke</td>\n      <td>Old Mill South, King's Mill Park, Sunnylea, Hu...</td>\n      <td>43.63278</td>\n      <td>-79.48945</td>\n    </tr>\n    <tr>\n      <th>102</th>\n      <td>M8Z</td>\n      <td>Etobicoke</td>\n      <td>Mimico NW, The Queensway West, South of Bloor,...</td>\n      <td>43.62513</td>\n      <td>-79.52681</td>\n    </tr>\n  </tbody>\n</table>\n<p>103 rows \u00d7 5 columns</p>\n</div>",
                        "text/plain": "    PostalCode                Borough  \\\n0          M3A             North York   \n1          M4A             North York   \n2          M5A       Downtown Toronto   \n3          M6A             North York   \n4          M7A           Queen's Park   \n..         ...                    ...   \n98         M8X              Etobicoke   \n99         M4Y       Downtown Toronto   \n100        M7Y  East Toronto Business   \n101        M8Y              Etobicoke   \n102        M8Z              Etobicoke   \n\n                                          Neighborhood  latitude  longitude  \n0                                            Parkwoods  43.75245  -79.32991  \n1                                     Victoria Village  43.73057  -79.31306  \n2                            Regent Park, Harbourfront  43.65512  -79.36264  \n3                     Lawrence Manor, Lawrence Heights  43.72327  -79.45042  \n4                        Ontario Provincial Government  43.66253  -79.39188  \n..                                                 ...       ...        ...  \n98       The Kingsway, Montgomery Road, Old Mill North  43.65319  -79.51113  \n99                                Church and Wellesley  43.66659  -79.38133  \n100                                     Enclave of M4L  43.64869  -79.38544  \n101  Old Mill South, King's Mill Park, Sunnylea, Hu...  43.63278  -79.48945  \n102  Mimico NW, The Queensway West, South of Bloor,...  43.62513  -79.52681  \n\n[103 rows x 5 columns]"
                    },
                    "execution_count": 18,
                    "metadata": {},
                    "output_type": "execute_result"
                }
            ],
            "source": "newdataframe"
        },
        {
            "cell_type": "markdown",
            "metadata": {},
            "source": "PART 3"
        },
        {
            "cell_type": "code",
            "execution_count": null,
            "metadata": {},
            "outputs": [],
            "source": "# The code was removed by Watson Studio for sharing."
        }
    ],
    "metadata": {
        "kernelspec": {
            "display_name": "Python 3.7",
            "language": "python",
            "name": "python3"
        },
        "language_info": {
            "codemirror_mode": {
                "name": "ipython",
                "version": 3
            },
            "file_extension": ".py",
            "mimetype": "text/x-python",
            "name": "python",
            "nbconvert_exporter": "python",
            "pygments_lexer": "ipython3",
            "version": "3.7.10"
        }
    },
    "nbformat": 4,
    "nbformat_minor": 1
}