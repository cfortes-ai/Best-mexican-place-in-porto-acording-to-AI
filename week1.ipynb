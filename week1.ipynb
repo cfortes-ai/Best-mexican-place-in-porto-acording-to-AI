{
    "cells": [
        {
            "cell_type": "markdown",
            "metadata": {
                "collapsed": true
            },
            "source": "A description of the problem and a discussion of the background. (15 marks)\nWhile opening a resturant can be a very lucrative business, a lack of demand causes many resturants to close within the first year of opening. There are many different factors that can account for a resturant's success such as location, competition,and quality of the food.\nA description of the data and how it will be used to solve the problem. (15 marks)\nThe goal of this project is to use the Foursquare API to determine the optimal location to open a MExican Restaurant. For MExican Restaurant specifically, location and competition are both determined by where the restaurant will be opened. If there are too many Mexican Restaurants in the local vicinity, the profitability of the restaurant will be severily decreased. "
        }
    ],
    "metadata": {
        "kernelspec": {
            "display_name": "Python 3.7",
            "language": "python",
            "name": "python3"
        },
        "language_info": {
            "codemirror_mode": {
                "name": "ipython",
                "version": 3
            },
            "file_extension": ".py",
            "mimetype": "text/x-python",
            "name": "python",
            "nbconvert_exporter": "python",
            "pygments_lexer": "ipython3",
            "version": "3.7.10"
        }
    },
    "nbformat": 4,
    "nbformat_minor": 1
}